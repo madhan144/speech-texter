{
 "cells": [
  {
   "cell_type": "code",
   "execution_count": 0,
   "metadata": {
    "colab": {},
    "colab_type": "code",
    "id": "WXimpihvdayL"
   },
   "outputs": [],
   "source": [
    "import numpy as np"
   ]
  },
  {
   "cell_type": "code",
   "execution_count": 0,
   "metadata": {
    "colab": {},
    "colab_type": "code",
    "id": "lawAxOJUa-3w"
   },
   "outputs": [],
   "source": [
    "train=np.load('/content/drive/My Drive/train.npy')"
   ]
  },
  {
   "cell_type": "code",
   "execution_count": 0,
   "metadata": {
    "colab": {},
    "colab_type": "code",
    "id": "3q4Gq-mwcX3n"
   },
   "outputs": [],
   "source": [
    "y=np.load('/content/drive/My Drive/yt.npy')"
   ]
  },
  {
   "cell_type": "code",
   "execution_count": 0,
   "metadata": {
    "colab": {},
    "colab_type": "code",
    "id": "ZvJbc2BLdWg8"
   },
   "outputs": [],
   "source": [
    "from sklearn.model_selection import train_test_split\n",
    "x_tr, x_val, y_tr, y_val = train_test_split(train,y,test_size = 0.25,random_state=777,shuffle=True)"
   ]
  },
  {
   "cell_type": "code",
   "execution_count": 0,
   "metadata": {
    "colab": {},
    "colab_type": "code",
    "id": "h3ViyocudvU4"
   },
   "outputs": [],
   "source": [
    "from keras.layers import Dense, Dropout, Flatten, Conv1D, Input, MaxPooling1D\n",
    "from keras.models import Model\n",
    "from keras.callbacks import EarlyStopping, ModelCheckpoint\n",
    "from keras import backend as K\n",
    "K.clear_session()"
   ]
  },
  {
   "cell_type": "code",
   "execution_count": 40,
   "metadata": {
    "colab": {
     "base_uri": "https://localhost:8080/",
     "height": 816
    },
    "colab_type": "code",
    "id": "QtlYj0xBdvY7",
    "outputId": "bb8482f2-0989-4e4f-9341-d71535a141f8"
   },
   "outputs": [
    {
     "name": "stdout",
     "output_type": "stream",
     "text": [
      "Model: \"model_1\"\n",
      "_________________________________________________________________\n",
      "Layer (type)                 Output Shape              Param #   \n",
      "=================================================================\n",
      "input_1 (InputLayer)         (None, 8000, 1)           0         \n",
      "_________________________________________________________________\n",
      "conv1d_1 (Conv1D)            (None, 7988, 8)           112       \n",
      "_________________________________________________________________\n",
      "max_pooling1d_1 (MaxPooling1 (None, 2662, 8)           0         \n",
      "_________________________________________________________________\n",
      "dropout_1 (Dropout)          (None, 2662, 8)           0         \n",
      "_________________________________________________________________\n",
      "conv1d_2 (Conv1D)            (None, 2652, 16)          1424      \n",
      "_________________________________________________________________\n",
      "max_pooling1d_2 (MaxPooling1 (None, 884, 16)           0         \n",
      "_________________________________________________________________\n",
      "dropout_2 (Dropout)          (None, 884, 16)           0         \n",
      "_________________________________________________________________\n",
      "conv1d_3 (Conv1D)            (None, 876, 32)           4640      \n",
      "_________________________________________________________________\n",
      "max_pooling1d_3 (MaxPooling1 (None, 292, 32)           0         \n",
      "_________________________________________________________________\n",
      "dropout_3 (Dropout)          (None, 292, 32)           0         \n",
      "_________________________________________________________________\n",
      "conv1d_4 (Conv1D)            (None, 286, 64)           14400     \n",
      "_________________________________________________________________\n",
      "max_pooling1d_4 (MaxPooling1 (None, 95, 64)            0         \n",
      "_________________________________________________________________\n",
      "dropout_4 (Dropout)          (None, 95, 64)            0         \n",
      "_________________________________________________________________\n",
      "flatten_1 (Flatten)          (None, 6080)              0         \n",
      "_________________________________________________________________\n",
      "dense_1 (Dense)              (None, 256)               1556736   \n",
      "_________________________________________________________________\n",
      "dropout_5 (Dropout)          (None, 256)               0         \n",
      "_________________________________________________________________\n",
      "dense_2 (Dense)              (None, 128)               32896     \n",
      "_________________________________________________________________\n",
      "dropout_6 (Dropout)          (None, 128)               0         \n",
      "_________________________________________________________________\n",
      "dense_3 (Dense)              (None, 30)                3870      \n",
      "=================================================================\n",
      "Total params: 1,614,078\n",
      "Trainable params: 1,614,078\n",
      "Non-trainable params: 0\n",
      "_________________________________________________________________\n"
     ]
    }
   ],
   "source": [
    "inputs = Input(shape=(8000,1))\n",
    "cnnl = Conv1D(8,13, padding='valid', activation='relu', strides=1)(inputs)\n",
    "cnnl = MaxPooling1D(3)(cnnl)\n",
    "cnnl = Dropout(0.3)(cnnl)\n",
    "cnnl = Conv1D(16, 11, padding='valid', activation='relu', strides=1)(cnnl)\n",
    "cnnl = MaxPooling1D(3)(cnnl)\n",
    "cnnl = Dropout(0.3)(cnnl)\n",
    "cnnl = Conv1D(32, 9, padding='valid', activation='relu', strides=1)(cnnl)\n",
    "cnnl = MaxPooling1D(3)(cnnl)\n",
    "cnnl = Dropout(0.3)(cnnl)\n",
    "cnnl = Conv1D(64, 7, padding='valid', activation='relu', strides=1)(cnnl)\n",
    "cnnl = MaxPooling1D(3)(cnnl)\n",
    "cnnl = Dropout(0.3)(cnnl)\n",
    "cnnl = Flatten()(cnnl)\n",
    "cnnl = Dense(256, activation='relu')(cnnl)\n",
    "cnnl = Dropout(0.3)(cnnl)\n",
    "cnnl = Dense(128, activation='relu')(cnnl)\n",
    "cnnl = Dropout(0.3)(cnnl)\n",
    "target = Dense(30, activation='softmax')(cnnl)\n",
    "model = Model(inputs, target)\n",
    "model.summary()"
   ]
  },
  {
   "cell_type": "code",
   "execution_count": 0,
   "metadata": {
    "colab": {},
    "colab_type": "code",
    "id": "eZhFEgYMeV24"
   },
   "outputs": [],
   "source": [
    "model.compile(loss='categorical_crossentropy',optimizer='adam',metrics=['accuracy'])"
   ]
  },
  {
   "cell_type": "code",
   "execution_count": 0,
   "metadata": {
    "colab": {},
    "colab_type": "code",
    "id": "COhCkY_LeV77"
   },
   "outputs": [],
   "source": [
    "es = EarlyStopping(monitor='val_loss', mode='min', verbose=1, patience=10, min_delta=0.0001) \n",
    "mc = ModelCheckpoint('speech_model.h5', monitor='val_acc', verbose=1, save_best_only=True, mode='max')"
   ]
  },
  {
   "cell_type": "code",
   "execution_count": 43,
   "metadata": {
    "colab": {
     "base_uri": "https://localhost:8080/",
     "height": 1000
    },
    "colab_type": "code",
    "id": "eENxfGGDeV6n",
    "outputId": "efd64f9a-4ad9-4f1a-d833-6d917d368e20"
   },
   "outputs": [
    {
     "name": "stdout",
     "output_type": "stream",
     "text": [
      "Train on 43689 samples, validate on 14563 samples\n",
      "Epoch 1/20\n",
      "43689/43689 [==============================] - 379s 9ms/step - loss: 2.9732 - acc: 0.1370 - val_loss: 2.3292 - val_acc: 0.2941\n",
      "\n",
      "Epoch 00001: val_acc improved from -inf to 0.29410, saving model to speech_model.h5\n",
      "Epoch 2/20\n",
      "43689/43689 [==============================] - 375s 9ms/step - loss: 2.0180 - acc: 0.3690 - val_loss: 1.5249 - val_acc: 0.5485\n",
      "\n",
      "Epoch 00002: val_acc improved from 0.29410 to 0.54851, saving model to speech_model.h5\n",
      "Epoch 3/20\n",
      "43689/43689 [==============================] - 375s 9ms/step - loss: 1.5815 - acc: 0.5094 - val_loss: 1.2656 - val_acc: 0.6260\n",
      "\n",
      "Epoch 00003: val_acc improved from 0.54851 to 0.62604, saving model to speech_model.h5\n",
      "Epoch 4/20\n",
      "43689/43689 [==============================] - 378s 9ms/step - loss: 1.3980 - acc: 0.5670 - val_loss: 1.1405 - val_acc: 0.6648\n",
      "\n",
      "Epoch 00004: val_acc improved from 0.62604 to 0.66477, saving model to speech_model.h5\n",
      "Epoch 5/20\n",
      "43689/43689 [==============================] - 375s 9ms/step - loss: 1.2980 - acc: 0.6016 - val_loss: 1.0745 - val_acc: 0.6821\n",
      "\n",
      "Epoch 00005: val_acc improved from 0.66477 to 0.68214, saving model to speech_model.h5\n",
      "Epoch 6/20\n",
      "43689/43689 [==============================] - 370s 8ms/step - loss: 1.2094 - acc: 0.6294 - val_loss: 0.9865 - val_acc: 0.7053\n",
      "\n",
      "Epoch 00006: val_acc improved from 0.68214 to 0.70528, saving model to speech_model.h5\n",
      "Epoch 7/20\n",
      "43689/43689 [==============================] - 371s 8ms/step - loss: 1.1521 - acc: 0.6470 - val_loss: 0.9196 - val_acc: 0.7231\n",
      "\n",
      "Epoch 00007: val_acc improved from 0.70528 to 0.72313, saving model to speech_model.h5\n",
      "Epoch 8/20\n",
      "43689/43689 [==============================] - 374s 9ms/step - loss: 1.0953 - acc: 0.6618 - val_loss: 0.8790 - val_acc: 0.7351\n",
      "\n",
      "Epoch 00008: val_acc improved from 0.72313 to 0.73508, saving model to speech_model.h5\n",
      "Epoch 9/20\n",
      "43689/43689 [==============================] - 375s 9ms/step - loss: 1.0532 - acc: 0.6776 - val_loss: 0.9034 - val_acc: 0.7336\n",
      "\n",
      "Epoch 00009: val_acc did not improve from 0.73508\n",
      "Epoch 10/20\n",
      "43689/43689 [==============================] - 375s 9ms/step - loss: 1.0173 - acc: 0.6877 - val_loss: 0.8411 - val_acc: 0.7494\n",
      "\n",
      "Epoch 00010: val_acc improved from 0.73508 to 0.74943, saving model to speech_model.h5\n",
      "Epoch 11/20\n",
      "43689/43689 [==============================] - 370s 8ms/step - loss: 0.9857 - acc: 0.6956 - val_loss: 0.8001 - val_acc: 0.7647\n",
      "\n",
      "Epoch 00011: val_acc improved from 0.74943 to 0.76475, saving model to speech_model.h5\n",
      "Epoch 12/20\n",
      "43689/43689 [==============================] - 380s 9ms/step - loss: 0.9507 - acc: 0.7088 - val_loss: 0.8198 - val_acc: 0.7595\n",
      "\n",
      "Epoch 00012: val_acc did not improve from 0.76475\n",
      "Epoch 13/20\n",
      "43689/43689 [==============================] - 377s 9ms/step - loss: 0.9184 - acc: 0.7196 - val_loss: 0.8375 - val_acc: 0.7540\n",
      "\n",
      "Epoch 00013: val_acc did not improve from 0.76475\n",
      "Epoch 14/20\n",
      "43689/43689 [==============================] - 380s 9ms/step - loss: 0.9001 - acc: 0.7248 - val_loss: 0.7679 - val_acc: 0.7724\n",
      "\n",
      "Epoch 00014: val_acc improved from 0.76475 to 0.77237, saving model to speech_model.h5\n",
      "Epoch 15/20\n",
      "43689/43689 [==============================] - 374s 9ms/step - loss: 0.8921 - acc: 0.7265 - val_loss: 0.7612 - val_acc: 0.7773\n",
      "\n",
      "Epoch 00015: val_acc improved from 0.77237 to 0.77731, saving model to speech_model.h5\n",
      "Epoch 16/20\n",
      "43689/43689 [==============================] - 377s 9ms/step - loss: 0.8653 - acc: 0.7338 - val_loss: 0.7008 - val_acc: 0.7928\n",
      "\n",
      "Epoch 00016: val_acc improved from 0.77731 to 0.79283, saving model to speech_model.h5\n",
      "Epoch 17/20\n",
      "43689/43689 [==============================] - 375s 9ms/step - loss: 0.8411 - acc: 0.7404 - val_loss: 0.7003 - val_acc: 0.7910\n",
      "\n",
      "Epoch 00017: val_acc did not improve from 0.79283\n",
      "Epoch 18/20\n",
      "43689/43689 [==============================] - 375s 9ms/step - loss: 0.8209 - acc: 0.7492 - val_loss: 0.7721 - val_acc: 0.7716\n",
      "\n",
      "Epoch 00018: val_acc did not improve from 0.79283\n",
      "Epoch 19/20\n",
      "43689/43689 [==============================] - 377s 9ms/step - loss: 0.8098 - acc: 0.7519 - val_loss: 0.7288 - val_acc: 0.7812\n",
      "\n",
      "Epoch 00019: val_acc did not improve from 0.79283\n",
      "Epoch 20/20\n",
      "43689/43689 [==============================] - 375s 9ms/step - loss: 0.7991 - acc: 0.7568 - val_loss: 0.7179 - val_acc: 0.7814\n",
      "\n",
      "Epoch 00020: val_acc did not improve from 0.79283\n"
     ]
    }
   ],
   "source": [
    "history=model.fit(x_tr, y_tr ,epochs=20, callbacks=[es,mc], batch_size=32, validation_data=(x_val,y_val))"
   ]
  },
  {
   "cell_type": "code",
   "execution_count": 44,
   "metadata": {
    "colab": {
     "base_uri": "https://localhost:8080/",
     "height": 269
    },
    "colab_type": "code",
    "id": "YQ_8sso7e_Gv",
    "outputId": "b61b1fab-b3cc-4fb3-cc04-8f237f7072ed"
   },
   "outputs": [
    {
     "data": {
      "image/png": "[encoded data removed]",
      "text/plain": [
       "<Figure size 432x288 with 1 Axes>"
      ]
     },
     "metadata": {
      "tags": []
     },
     "output_type": "display_data"
    }
   ],
   "source": [
    "from matplotlib import pyplot as plt\n",
    "plt.plot(history.history['loss'], label='train')\n",
    "plt.plot(history.history['val_loss'], label='test')\n",
    "plt.legend()\n",
    "plt.show()"
   ]
  },
  {
   "cell_type": "code",
   "execution_count": 0,
   "metadata": {
    "colab": {},
    "colab_type": "code",
    "id": "wLcUCTOve5gN"
   },
   "outputs": [],
   "source": [
    "from keras.models import load_model\n",
    "model=load_model('speech_model.h5')"
   ]
  }
 ],
 "metadata": {
  "colab": {
   "collapsed_sections": [],
   "name": "Speech Model.ipynb",
   "provenance": []
  },
  "kernelspec": {
   "display_name": "Python 3",
   "language": "python",
   "name": "python3"
  },
  "language_info": {
   "codemirror_mode": {
    "name": "ipython",
    "version": 3
   },
   "file_extension": ".py",
   "mimetype": "text/x-python",
   "name": "python",
   "nbconvert_exporter": "python",
   "pygments_lexer": "ipython3",
   "version": "3.7.3"
  }
 },
 "nbformat": 4,
 "nbformat_minor": 1
}
